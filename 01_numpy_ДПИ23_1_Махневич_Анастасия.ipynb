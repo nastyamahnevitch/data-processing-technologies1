{
  "cells": [
    {
      "cell_type": "markdown",
      "metadata": {
        "id": "view-in-github",
        "colab_type": "text"
      },
      "source": [
        "<a href=\"https://colab.research.google.com/github/nastyamahnevitch/data-processing-technologies1/blob/main/01_numpy_%D0%94%D0%9F%D0%9823_1_%D0%9C%D0%B0%D1%85%D0%BD%D0%B5%D0%B2%D0%B8%D1%87_%D0%90%D0%BD%D0%B0%D1%81%D1%82%D0%B0%D1%81%D0%B8%D1%8F.ipynb\" target=\"_parent\"><img src=\"https://colab.research.google.com/assets/colab-badge.svg\" alt=\"Open In Colab\"/></a>"
      ]
    },
    {
      "cell_type": "markdown",
      "metadata": {
        "id": "bpLQyXFm2h2T"
      },
      "source": [
        "# Numpy"
      ]
    },
    {
      "cell_type": "markdown",
      "metadata": {
        "id": "LgwXK3zR2h2U"
      },
      "source": [
        "Материалы:\n",
        "* Макрушин С.В. \"Лекция 1: Библиотека Numpy\"\n",
        "* https://numpy.org/doc/stable/user/index.html\n",
        "* https://numpy.org/doc/stable/reference/index.html"
      ]
    },
    {
      "cell_type": "markdown",
      "metadata": {
        "id": "YBryc_Gl2h2U"
      },
      "source": [
        "## Задачи для совместного разбора"
      ]
    },
    {
      "cell_type": "markdown",
      "metadata": {
        "id": "H7svo9I62h2V"
      },
      "source": [
        "1. Сгенерировать двухмерный массив `arr` размерности (4, 7), состоящий из случайных действительных чисел, равномерно распределенных в диапазоне от 0 до 20. Нормализовать значения массива с помощью преобразования вида  $𝑎𝑥+𝑏$  так, что после нормализации максимальный элемент масcива будет равен 1.0, минимальный 0.0"
      ]
    },
    {
      "cell_type": "code",
      "execution_count": 1,
      "metadata": {
        "colab": {
          "base_uri": "https://localhost:8080/"
        },
        "id": "RgPMe1r42h2V",
        "outputId": "d6467f4e-e674-407d-eafd-644850be580d"
      },
      "outputs": [
        {
          "output_type": "stream",
          "name": "stdout",
          "text": [
            "[[ 1.9246505  12.54421802 18.31845203  6.36329746  9.82125426 10.37005363\n",
            "  12.27926791]\n",
            " [ 0.80469595  2.16080943  9.84288531 15.31478708  3.36853371 10.79625225\n",
            "   0.42568296]\n",
            " [15.25743663  0.7517413   2.84634774  5.5627373   3.67822104 13.8030396\n",
            "   2.08705817]\n",
            " [ 5.23958208 14.55392283 10.08294552  0.02769256 11.2430547  14.10099666\n",
            "  10.11587245]]\n"
          ]
        },
        {
          "output_type": "execute_result",
          "data": {
            "text/plain": [
              "array([[0.10371127, 0.68430868, 1.        , 0.34638282, 0.53543767,\n",
              "        0.56544186, 0.66982322],\n",
              "       [0.04248065, 0.11662265, 0.5366203 , 0.83578238, 0.18265186,\n",
              "        0.58874317, 0.0217591 ],\n",
              "       [0.83264689, 0.03958549, 0.15410269, 0.30261427, 0.19958321,\n",
              "        0.7531315 , 0.11259049],\n",
              "       [0.28494659, 0.7941841 , 0.54974497, 0.        , 0.61317094,\n",
              "        0.76942153, 0.55154516]])"
            ]
          },
          "metadata": {},
          "execution_count": 1
        }
      ],
      "source": [
        "import numpy as np\n",
        "data = np.random.uniform(0, 20, size = (4, 7))\n",
        "print(data)\n",
        "(data-np.min(data))/(np.max(data)-np.min(data))"
      ]
    },
    {
      "cell_type": "code",
      "execution_count": null,
      "metadata": {
        "id": "U9AOY1Jv2h2c",
        "outputId": "ee4ea51c-c826-4a68-c087-bc99e8d235be",
        "colab": {
          "base_uri": "https://localhost:8080/"
        }
      },
      "outputs": [
        {
          "output_type": "execute_result",
          "data": {
            "text/plain": [
              "array([[10,  5,  4,  8,  4, 15, 15],\n",
              "       [17, 16,  9, 15,  7,  7,  5],\n",
              "       [18,  5, 19,  3,  8, 12,  3],\n",
              "       [ 2, 14, 17, 17,  7, 18, 10]])"
            ]
          },
          "metadata": {},
          "execution_count": 2
        }
      ],
      "source": [
        "np.random.randint(0, 20, size = (4, 7))"
      ]
    },
    {
      "cell_type": "markdown",
      "metadata": {
        "id": "buyMp2492h2c"
      },
      "source": [
        "2. Создать матрицу 8 на 10 из случайных целых (используя модуль `numpy.random`) чисел из диапозона от 0 до 10 и найти в ней строку (ее индекс и вывести саму строку), в которой сумма значений минимальна."
      ]
    },
    {
      "cell_type": "code",
      "execution_count": null,
      "metadata": {
        "colab": {
          "base_uri": "https://localhost:8080/"
        },
        "id": "QHq14JTK2h2c",
        "outputId": "1747bf5f-b880-491c-b095-b11336712a2e"
      },
      "outputs": [
        {
          "output_type": "stream",
          "name": "stdout",
          "text": [
            "[[5 7 3 0 6 7 2 0 7 3]\n",
            " [0 8 5 4 2 7 9 5 4 8]\n",
            " [5 4 8 0 3 4 0 1 5 0]\n",
            " [9 6 6 6 6 0 9 9 3 5]\n",
            " [0 1 8 9 5 7 3 7 7 6]\n",
            " [7 1 3 8 5 1 6 5 9 7]\n",
            " [3 6 1 9 9 4 7 1 7 8]\n",
            " [8 5 9 8 0 6 1 7 7 4]]\n",
            "Row Index 2\n"
          ]
        },
        {
          "output_type": "execute_result",
          "data": {
            "text/plain": [
              "array([5, 4, 8, 0, 3, 4, 0, 1, 5, 0])"
            ]
          },
          "metadata": {},
          "execution_count": 3
        }
      ],
      "source": [
        "np.random.randint(0, 10, size = (8, 10))\n",
        "arr = np.random.randint(0, 10, size = (8, 10))\n",
        "print(arr)\n",
        "print(\"Row Index\",np.argmin(np.sum(arr, axis=1)))\n",
        "arr[np.argmin(np.sum(arr, axis=1))]"
      ]
    },
    {
      "cell_type": "markdown",
      "metadata": {
        "id": "TwuFG3mE2h2c"
      },
      "source": [
        "3. Найти евклидово расстояние между двумя одномерными векторами одинаковой размерности."
      ]
    },
    {
      "cell_type": "code",
      "execution_count": null,
      "metadata": {
        "id": "OlrS1iUr2h2c"
      },
      "outputs": [],
      "source": [
        "import matplotlib.pyplot as pl\n",
        "from mpl_toolkits.mplot3d import Axes3D"
      ]
    },
    {
      "cell_type": "code",
      "execution_count": null,
      "metadata": {
        "colab": {
          "base_uri": "https://localhost:8080/"
        },
        "id": "dVkDQIhg2h2d",
        "outputId": "2c3e8e23-b88d-4ce1-f825-a41816527e63"
      },
      "outputs": [
        {
          "output_type": "stream",
          "name": "stdout",
          "text": [
            "[ 5 15 11 12  0]\n",
            "[16  0  7 15 18]\n",
            "26.362852652928137\n",
            "26.362852652928137\n"
          ]
        }
      ],
      "source": [
        "point_1 = np.random.randint(0, 20, size=5)\n",
        "point_2 = np.random.randint(0, 20, size=5)\n",
        "print(point_1)\n",
        "print(point_2)\n",
        "#first way\n",
        "square = np.square(point_1 - point_2)\n",
        "sum_square = np.sum(square)\n",
        "print(np.sqrt(sum_square))\n",
        "#second way\n",
        "distance = np.linalg.norm(point_1-point_2)\n",
        "print(distance)"
      ]
    },
    {
      "cell_type": "markdown",
      "metadata": {
        "id": "2WC6wV5V2h2d"
      },
      "source": [
        "4. Решить матричное уравнение `A*X*B=-C` - найти матрицу `X`. Где `A = [[-1, 2, 4], [-3, 1, 2], [-3, 0, 1]]`, `B=[[3, -1], [2, 1]]`, `C=[[7, 21], [11, 8], [8, 4]]`."
      ]
    },
    {
      "cell_type": "code",
      "source": [
        "a = np.array([[-1, 2, 4], [-3, 1, 2], [-3, 0, 1]])\n",
        "b = np.array([[3, -1], [2, 1]])\n",
        "c = np.array([[7, 21], [11, 8], [8, 4]])\n",
        "#решение: x = a^-1*(-c)*b^-1\n",
        "\n",
        "x0 = np.matmul(np.linalg.inv(a),(-c))\n",
        "print(x0)\n",
        "x =  np.matmul(x0,np.linalg.inv(b))\n",
        "print(x)"
      ],
      "metadata": {
        "colab": {
          "base_uri": "https://localhost:8080/"
        },
        "id": "5PgWrLaS4HZu",
        "outputId": "98854cdb-605e-413d-b4f0-0afca4388594"
      },
      "execution_count": null,
      "outputs": [
        {
          "output_type": "stream",
          "name": "stdout",
          "text": [
            "[[ 3. -1.]\n",
            " [-4.  3.]\n",
            " [ 1. -7.]]\n",
            "[[ 1.00000000e+00  5.32907052e-16]\n",
            " [-2.00000000e+00  1.00000000e+00]\n",
            " [ 3.00000000e+00 -4.00000000e+00]]\n"
          ]
        }
      ]
    },
    {
      "cell_type": "markdown",
      "metadata": {
        "id": "OE9qSC4m2h2d"
      },
      "source": [
        "## Лабораторная работа №1"
      ]
    },
    {
      "cell_type": "markdown",
      "metadata": {
        "id": "gUVY2WZ82h2d"
      },
      "source": [
        "Замечание: при решении данных задач не подразумевается использования циклов или генераторов Python, если в задании не сказано обратного. Решение должно опираться на использования функционала библиотеки `numpy`."
      ]
    },
    {
      "cell_type": "markdown",
      "metadata": {
        "id": "95XP5ZID2h2d"
      },
      "source": [
        "1. Файл `minutes_n_ingredients.csv` содержит информацию об идентификаторе рецепта, времени его выполнения в минутах и количестве необходимых ингредиентов. Считайте данные из этого файла в виде массива `numpy` типа `int32`, используя `np.loadtxt`. Выведите на экран первые 5 строк массива."
      ]
    },
    {
      "cell_type": "code",
      "source": [
        "data = np.loadtxt(\"minutes_n_ingredients.csv\", delimiter=',', skiprows=1, dtype=np.int32)\n",
        "# first 5 rows\n",
        "print(data[0:5, :])"
      ],
      "metadata": {
        "colab": {
          "base_uri": "https://localhost:8080/"
        },
        "id": "Rw6ezde_3jkm",
        "outputId": "0d90a432-1597-452f-aaed-5a867b18aef3"
      },
      "execution_count": 2,
      "outputs": [
        {
          "output_type": "stream",
          "name": "stdout",
          "text": [
            "[[127244     60     16]\n",
            " [ 23891     25      7]\n",
            " [ 94746     10      6]\n",
            " [ 67660      5      6]\n",
            " [157911     60     14]]\n"
          ]
        }
      ]
    },
    {
      "cell_type": "markdown",
      "metadata": {
        "id": "uj0C38CK2h2d"
      },
      "source": [
        "2. Вычислите среднее значение, минимум, максимум и медиану по каждому из столбцов, кроме первого."
      ]
    },
    {
      "cell_type": "code",
      "source": [
        "#делаем срез массива, извлекаем все кроме первого массива\n",
        "sliced = data[:,1:]\n",
        "# находим среднее по столбцам среза\n",
        "print(np.mean(sliced,axis=0))\n",
        "# находим минимум по столбцам среза\n",
        "print(np.min(sliced, axis=0))\n",
        "# находим максимум по столбцам среза\n",
        "print(np.max(sliced, axis=0))\n",
        "# находим медиану по столбцам среза\n",
        "print(np.median(sliced, axis=0))"
      ],
      "metadata": {
        "colab": {
          "base_uri": "https://localhost:8080/"
        },
        "id": "49g6YR6539if",
        "outputId": "718e3d9b-52e2-4765-b2a1-ed5274f955da"
      },
      "execution_count": null,
      "outputs": [
        {
          "output_type": "stream",
          "name": "stdout",
          "text": [
            "[2.16010017e+04 9.05528000e+00]\n",
            "[0 1]\n",
            "[2147483647         39]\n",
            "[40.  9.]\n"
          ]
        }
      ]
    },
    {
      "cell_type": "markdown",
      "metadata": {
        "id": "DLi9nPKn2h2d"
      },
      "source": [
        "3. Ограничьте сверху значения продолжительности выполнения рецепта значением квантиля $q_{0.75}$."
      ]
    },
    {
      "cell_type": "code",
      "source": [
        "np.clip(data[:, 1],0,np.quantile(data[:, 1],0.75,method='higher'))"
      ],
      "metadata": {
        "colab": {
          "base_uri": "https://localhost:8080/"
        },
        "id": "E2rqGeSR51so",
        "outputId": "f765d0b3-59e7-42e5-93c3-3542448360b7"
      },
      "execution_count": null,
      "outputs": [
        {
          "output_type": "execute_result",
          "data": {
            "text/plain": [
              "array([60, 25, 10, ..., 65,  5, 65], dtype=int32)"
            ]
          },
          "metadata": {},
          "execution_count": 22
        }
      ]
    },
    {
      "cell_type": "markdown",
      "metadata": {
        "id": "Me6ded2v2h2d"
      },
      "source": [
        "4. Посчитайте, для скольких рецептов указана продолжительность, равная нулю. Замените для таких строк значение в данном столбце на 1."
      ]
    },
    {
      "cell_type": "code",
      "source": [
        "print(np.count_nonzero (data[:, 1] == 0))\n",
        "np.place(data, data==0, 1)"
      ],
      "metadata": {
        "colab": {
          "base_uri": "https://localhost:8080/"
        },
        "id": "cMEHfLr16Ipw",
        "outputId": "4449de25-9eeb-4919-b252-df040a9dbc10"
      },
      "execution_count": null,
      "outputs": [
        {
          "output_type": "stream",
          "name": "stdout",
          "text": [
            "479\n"
          ]
        }
      ]
    },
    {
      "cell_type": "markdown",
      "metadata": {
        "id": "noHCvNBx2h2d"
      },
      "source": [
        "5. Посчитайте, сколько уникальных рецептов находится в датасете."
      ]
    },
    {
      "cell_type": "code",
      "source": [
        "#уникальные рецепты - это рецепты, у которых не повторяются минуты и количество ингредиентов\n",
        "len(np.unique(sliced, axis=0))"
      ],
      "metadata": {
        "colab": {
          "base_uri": "https://localhost:8080/"
        },
        "id": "MEC4ekTH9lga",
        "outputId": "85ec50d9-7572-4f68-8375-f8d960b3a14d"
      },
      "execution_count": null,
      "outputs": [
        {
          "output_type": "execute_result",
          "data": {
            "text/plain": [
              "4183"
            ]
          },
          "metadata": {},
          "execution_count": 24
        }
      ]
    },
    {
      "cell_type": "markdown",
      "metadata": {
        "id": "k6Fr-g492h2d"
      },
      "source": [
        "6. Сколько и каких различных значений кол-ва ингредиентов присутвует в рецептах из датасета?"
      ]
    },
    {
      "cell_type": "code",
      "source": [
        "print(np.unique(data[:, 2], axis=0))\n",
        "print(np.unique(data[:, 2], axis=0).size)"
      ],
      "metadata": {
        "colab": {
          "base_uri": "https://localhost:8080/"
        },
        "id": "ij_UW3qF9p3D",
        "outputId": "992a4e4b-dea8-462a-80c3-497cae1db463"
      },
      "execution_count": null,
      "outputs": [
        {
          "output_type": "stream",
          "name": "stdout",
          "text": [
            "[ 1  2  3  4  5  6  7  8  9 10 11 12 13 14 15 16 17 18 19 20 21 22 23 24\n",
            " 25 26 27 28 29 30 31 32 33 34 35 37 39]\n",
            "37\n"
          ]
        }
      ]
    },
    {
      "cell_type": "markdown",
      "metadata": {
        "id": "-oqbZH3A2h2e"
      },
      "source": [
        "7. Создайте версию массива, содержащую информацию только о рецептах, состоящих не более чем из 5 ингредиентов."
      ]
    },
    {
      "cell_type": "code",
      "source": [
        "data2 = data[np.where(data[:, 2] <= 5)]\n",
        "print(data2)"
      ],
      "metadata": {
        "id": "3rXdUHrD98Az",
        "outputId": "b687211b-179b-4020-bea8-a8378371d8db",
        "colab": {
          "base_uri": "https://localhost:8080/"
        }
      },
      "execution_count": null,
      "outputs": [
        {
          "output_type": "stream",
          "name": "stdout",
          "text": [
            "[[446597     15      5]\n",
            " [204134      5      3]\n",
            " [ 25623      6      4]\n",
            " ...\n",
            " [ 52088     60      5]\n",
            " [128811     15      4]\n",
            " [370915      5      4]]\n"
          ]
        }
      ]
    },
    {
      "cell_type": "markdown",
      "metadata": {
        "id": "z0RhC1x_2h2e"
      },
      "source": [
        "8. Для каждого рецепта посчитайте, сколько в среднем ингредиентов приходится на одну минуту рецепта. Найдите максимальное значение этой величины для всего датасета"
      ]
    },
    {
      "cell_type": "code",
      "source": [
        "data3 = data[:, 2] / data[:, 1]\n",
        "print(np.max(data3))"
      ],
      "metadata": {
        "id": "VEblTZXLdVDM",
        "colab": {
          "base_uri": "https://localhost:8080/"
        },
        "outputId": "1a197d81-7d29-4df1-dee0-2cb34045df2a"
      },
      "execution_count": null,
      "outputs": [
        {
          "output_type": "stream",
          "name": "stdout",
          "text": [
            "24.0\n"
          ]
        }
      ]
    },
    {
      "cell_type": "markdown",
      "metadata": {
        "id": "XOXxtmrh2h2e"
      },
      "source": [
        "9. Вычислите среднее количество ингредиентов для топ-100 рецептов с наибольшей продолжительностью"
      ]
    },
    {
      "cell_type": "code",
      "source": [
        "top_100 = data[data[:,0].argsort()][-100:]\n",
        "average_ingredients = np.mean(top_100[:,1])\n",
        "average_ingredients\n"
      ],
      "metadata": {
        "colab": {
          "base_uri": "https://localhost:8080/"
        },
        "id": "JDC_OmM5w-Ws",
        "outputId": "dbb81a79-4fee-4adc-a27a-ca7e11d0f008"
      },
      "execution_count": null,
      "outputs": [
        {
          "output_type": "execute_result",
          "data": {
            "text/plain": [
              "156.62"
            ]
          },
          "metadata": {},
          "execution_count": 8
        }
      ]
    },
    {
      "cell_type": "markdown",
      "metadata": {
        "id": "z2kjeoOI2h2e"
      },
      "source": [
        "10. Выберите случайным образом и выведите информацию о 10 различных рецептах"
      ]
    },
    {
      "cell_type": "code",
      "source": [
        "import random\n",
        "rand_10 = random.choices(data,  k = 10 )\n",
        "rand_10"
      ],
      "metadata": {
        "colab": {
          "base_uri": "https://localhost:8080/"
        },
        "id": "MDAapylNNjQB",
        "outputId": "75ec1cad-6554-4910-995f-d7cd6380b0a2"
      },
      "execution_count": null,
      "outputs": [
        {
          "output_type": "execute_result",
          "data": {
            "text/plain": [
              "[array([392746,     20,     10], dtype=int32),\n",
              " array([60839,    25,     7], dtype=int32),\n",
              " array([527481,     15,     12], dtype=int32),\n",
              " array([132040,     15,      7], dtype=int32),\n",
              " array([293158,     95,     13], dtype=int32),\n",
              " array([168413,     15,      8], dtype=int32),\n",
              " array([348562,     40,     12], dtype=int32),\n",
              " array([355981,    120,      3], dtype=int32),\n",
              " array([58764,    40,     9], dtype=int32),\n",
              " array([64377,    40,     8], dtype=int32)]"
            ]
          },
          "metadata": {},
          "execution_count": 22
        }
      ]
    },
    {
      "cell_type": "markdown",
      "metadata": {
        "id": "wq7QMrVV2h2e"
      },
      "source": [
        "11. Выведите процент рецептов, кол-во ингредиентов в которых меньше среднего."
      ]
    },
    {
      "cell_type": "code",
      "source": [
        "ingr = data[:, 2]\n",
        "ingr_mean = np.mean(ingr)\n",
        "less_mean = ingr < ingr_mean\n",
        "print((ingr[less_mean].size / ingr.size) *100)"
      ],
      "metadata": {
        "colab": {
          "base_uri": "https://localhost:8080/"
        },
        "id": "8FNMHGSDIsTe",
        "outputId": "d6a87e80-db30-44a3-a53e-d0396c61f07a"
      },
      "execution_count": 10,
      "outputs": [
        {
          "output_type": "stream",
          "name": "stdout",
          "text": [
            "58.802\n"
          ]
        }
      ]
    },
    {
      "cell_type": "markdown",
      "metadata": {
        "id": "Sv6Q1BRk2h2e"
      },
      "source": [
        "12. Назовем \"простым\" такой рецепт, длительность выполнения которого не больше 20 минут и кол-во ингредиентов в котором не больше 5. Создайте версию датасета с дополнительным столбцом, значениями которого являются 1, если рецепт простой, и 0 в противном случае."
      ]
    },
    {
      "cell_type": "code",
      "source": [
        "is_simple = np.where((data[:, 1] < 20) & (data[:, 2] < 5), 1, 0)\n",
        "is_simple.shape = 1, -1\n",
        "new_array = np.append(data.copy(), is_simple.T, axis= 1)"
      ],
      "metadata": {
        "colab": {
          "base_uri": "https://localhost:8080/"
        },
        "id": "n7_ZQbLenbvU",
        "outputId": "56aad1c0-4e4f-48a1-f722-5b2bec34beda"
      },
      "execution_count": 46,
      "outputs": [
        {
          "output_type": "stream",
          "name": "stdout",
          "text": [
            "[[127244     60     16      0]\n",
            " [ 23891     25      7      0]\n",
            " [ 94746     10      6      0]\n",
            " [ 67660      5      6      0]\n",
            " [157911     60     14      0]\n",
            " [152828     40      7      0]\n",
            " [ 33941     18      9      0]\n",
            " [446597     15      5      0]\n",
            " [366174      7      9      0]\n",
            " [ 74205     20      7      0]\n",
            " [504666     65     20      0]\n",
            " [ 81006     12      7      0]\n",
            " [280968     85     11      0]\n",
            " [204134      5      3      1]\n",
            " [ 18593     35      7      0]\n",
            " [ 25623      6      4      1]\n",
            " [ 65559     24     14      0]\n",
            " [ 99836    180      7      0]\n",
            " [ 87775     80     13      0]\n",
            " [425704     40     12      0]]\n"
          ]
        }
      ]
    },
    {
      "cell_type": "markdown",
      "metadata": {
        "id": "-JVxMtVw2h2e"
      },
      "source": [
        "13. Выведите процент \"простых\" рецептов в датасете"
      ]
    },
    {
      "cell_type": "code",
      "source": [
        "simple = (data[:, 1] < 20) & (data[:, 2] < 5)\n",
        "data5 = new_array[:, 3]\n",
        "print((data5[simple].size / data5.size)*100)"
      ],
      "metadata": {
        "colab": {
          "base_uri": "https://localhost:8080/"
        },
        "id": "GoHaWOUyyUPj",
        "outputId": "482c62c5-65a5-42d5-de39-5fe176180eea"
      },
      "execution_count": 49,
      "outputs": [
        {
          "output_type": "stream",
          "name": "stdout",
          "text": [
            "5.093\n"
          ]
        }
      ]
    },
    {
      "cell_type": "markdown",
      "metadata": {
        "id": "hHveBDi-2h2e"
      },
      "source": [
        "14. Разделим рецепты на группы по следующему правилу. Назовем рецепты короткими, если их продолжительность составляет менее 10 минут; стандартными, если их продолжительность составляет более 10, но менее 20 минут; и длинными, если их продолжительность составляет не менее 20 минут. Создайте трехмерный массив, где нулевая ось отвечает за номер группы (короткий, стандартный или длинный рецепт), первая ось - за сам рецепт и вторая ось - за характеристики рецепта. Выберите максимальное количество рецептов из каждой группы таким образом, чтобы было возможно сформировать трехмерный массив. Выведите форму полученного массива."
      ]
    },
    {
      "cell_type": "code",
      "execution_count": null,
      "metadata": {
        "id": "LWMv3CYc2h2e"
      },
      "outputs": [],
      "source": []
    }
  ],
  "metadata": {
    "kernelspec": {
      "display_name": "Python 3 (ipykernel)",
      "language": "python",
      "name": "python3"
    },
    "language_info": {
      "codemirror_mode": {
        "name": "ipython",
        "version": 3
      },
      "file_extension": ".py",
      "mimetype": "text/x-python",
      "name": "python",
      "nbconvert_exporter": "python",
      "pygments_lexer": "ipython3",
      "version": "3.9.12"
    },
    "colab": {
      "provenance": [],
      "include_colab_link": true
    }
  },
  "nbformat": 4,
  "nbformat_minor": 0
}